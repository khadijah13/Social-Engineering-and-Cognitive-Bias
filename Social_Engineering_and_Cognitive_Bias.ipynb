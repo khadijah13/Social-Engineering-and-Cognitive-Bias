{
  "nbformat": 4,
  "nbformat_minor": 0,
  "metadata": {
    "colab": {
      "provenance": []
    },
    "kernelspec": {
      "name": "python3",
      "display_name": "Python 3"
    },
    "language_info": {
      "name": "python"
    }
  },
  "cells": [
    {
      "cell_type": "code",
      "source": [
        "from google.colab import drive\n",
        "drive.mount('/content/gdrive')"
      ],
      "metadata": {
        "colab": {
          "base_uri": "https://localhost:8080/"
        },
        "id": "ZjRtZMT6PORo",
        "outputId": "1a08e47c-a3ee-4120-cbd4-e91c44ad7ee5"
      },
      "execution_count": null,
      "outputs": [
        {
          "output_type": "stream",
          "name": "stdout",
          "text": [
            "Mounted at /content/gdrive\n"
          ]
        }
      ]
    },
    {
      "cell_type": "code",
      "source": [
        "import numpy as np # linear algebra\n",
        "import pandas as pd # data processing, CSV file I/O (e.g. pd.read_csv)\n",
        "\n",
        "import os"
      ],
      "metadata": {
        "id": "iyxAioDePZIv"
      },
      "execution_count": null,
      "outputs": []
    },
    {
      "cell_type": "code",
      "execution_count": null,
      "metadata": {
        "colab": {
          "base_uri": "https://localhost:8080/"
        },
        "id": "oOJaEBbyPITl",
        "outputId": "8170977a-8348-44ef-fe53-ecac04aa928f"
      },
      "outputs": [
        {
          "output_type": "stream",
          "name": "stdout",
          "text": [
            "Mean Age Midpoint: nan\n",
            "Median Age Midpoint: nan\n",
            "Standard Deviation of Age Midpoint: nan\n",
            "Gender Counts:\n",
            "Female    23\n",
            "Male      17\n",
            "Name: Gender, dtype: int64\n",
            "Outcome Percentages:\n",
            "Failed Attempt           95.121951\n",
            "Successful compromise     4.878049\n",
            "Name: Outcome, dtype: float64\n",
            "Attack Type Counts:\n",
            "Phising (Tricking you into sharing personal information through fake emails or websites.)                                                                                                                                                                                                                                                                              13\n",
            "Phising (Tricking you into sharing personal information through fake emails or websites.), Baiting (Offering something enticing, like free downloads, that contains harmful software.)                                                                                                                                                                                  7\n",
            "Baiting (Offering something enticing, like free downloads, that contains harmful software.)                                                                                                                                                                                                                                                                             6\n",
            "Pre-texting ( Using a made-up scenario to get your personal information)                                                                                                                                                                                                                                                                                                3\n",
            "Baiting (Offering something enticing, like free downloads, that contains harmful software.), Quid Pro Quo (Offering a service, like tech support, in exchange for your information or access.)                                                                                                                                                                          1\n",
            "Tailgaiting (Following someone into a restricted area without proper access)                                                                                                                                                                                                                                                                                            1\n",
            "Baiting (Offering something enticing, like free downloads, that contains harmful software.), Tailgaiting (Following someone into a restricted area without proper access)                                                                                                                                                                                               1\n",
            "Quid Pro Quo (Offering a service, like tech support, in exchange for your information or access.)                                                                                                                                                                                                                                                                       1\n",
            "Phising (Tricking you into sharing personal information through fake emails or websites.), Pre-texting ( Using a made-up scenario to get your personal information)                                                                                                                                                                                                     1\n",
            "Pre-texting ( Using a made-up scenario to get your personal information), Baiting (Offering something enticing, like free downloads, that contains harmful software.)                                                                                                                                                                                                   1\n",
            "Tailgaiting (Following someone into a restricted area without proper access), Quid Pro Quo (Offering a service, like tech support, in exchange for your information or access.)                                                                                                                                                                                         1\n",
            "Phising (Tricking you into sharing personal information through fake emails or websites.), Pre-texting ( Using a made-up scenario to get your personal information), Baiting (Offering something enticing, like free downloads, that contains harmful software.)                                                                                                        1\n",
            "Phising (Tricking you into sharing personal information through fake emails or websites.), Pre-texting ( Using a made-up scenario to get your personal information), Baiting (Offering something enticing, like free downloads, that contains harmful software.), Quid Pro Quo (Offering a service, like tech support, in exchange for your information or access.)     1\n",
            "Phising (Tricking you into sharing personal information through fake emails or websites.), Quid Pro Quo (Offering a service, like tech support, in exchange for your information or access.)                                                                                                                                                                            1\n",
            "Name: Type of Attack, dtype: int64\n",
            "Attack Type Percentages:\n",
            "Phising (Tricking you into sharing personal information through fake emails or websites.)                                                                                                                                                                                                                                                                              33.333333\n",
            "Phising (Tricking you into sharing personal information through fake emails or websites.), Baiting (Offering something enticing, like free downloads, that contains harmful software.)                                                                                                                                                                                 17.948718\n",
            "Baiting (Offering something enticing, like free downloads, that contains harmful software.)                                                                                                                                                                                                                                                                            15.384615\n",
            "Pre-texting ( Using a made-up scenario to get your personal information)                                                                                                                                                                                                                                                                                                7.692308\n",
            "Baiting (Offering something enticing, like free downloads, that contains harmful software.), Quid Pro Quo (Offering a service, like tech support, in exchange for your information or access.)                                                                                                                                                                          2.564103\n",
            "Tailgaiting (Following someone into a restricted area without proper access)                                                                                                                                                                                                                                                                                            2.564103\n",
            "Baiting (Offering something enticing, like free downloads, that contains harmful software.), Tailgaiting (Following someone into a restricted area without proper access)                                                                                                                                                                                               2.564103\n",
            "Quid Pro Quo (Offering a service, like tech support, in exchange for your information or access.)                                                                                                                                                                                                                                                                       2.564103\n",
            "Phising (Tricking you into sharing personal information through fake emails or websites.), Pre-texting ( Using a made-up scenario to get your personal information)                                                                                                                                                                                                     2.564103\n",
            "Pre-texting ( Using a made-up scenario to get your personal information), Baiting (Offering something enticing, like free downloads, that contains harmful software.)                                                                                                                                                                                                   2.564103\n",
            "Tailgaiting (Following someone into a restricted area without proper access), Quid Pro Quo (Offering a service, like tech support, in exchange for your information or access.)                                                                                                                                                                                         2.564103\n",
            "Phising (Tricking you into sharing personal information through fake emails or websites.), Pre-texting ( Using a made-up scenario to get your personal information), Baiting (Offering something enticing, like free downloads, that contains harmful software.)                                                                                                        2.564103\n",
            "Phising (Tricking you into sharing personal information through fake emails or websites.), Pre-texting ( Using a made-up scenario to get your personal information), Baiting (Offering something enticing, like free downloads, that contains harmful software.), Quid Pro Quo (Offering a service, like tech support, in exchange for your information or access.)     2.564103\n",
            "Phising (Tricking you into sharing personal information through fake emails or websites.), Quid Pro Quo (Offering a service, like tech support, in exchange for your information or access.)                                                                                                                                                                            2.564103\n",
            "Name: Type of Attack, dtype: float64\n"
          ]
        },
        {
          "output_type": "stream",
          "name": "stderr",
          "text": [
            "/usr/local/lib/python3.10/dist-packages/numpy/lib/nanfunctions.py:1215: RuntimeWarning: Mean of empty slice\n",
            "  return np.nanmean(a, axis, out=out, keepdims=keepdims)\n"
          ]
        }
      ],
      "source": [
        "import pandas as pd\n",
        "\n",
        "# Load your data from Excel into a pandas DataFrame\n",
        "data = pd.read_excel(\"/content/gdrive/MyDrive/research_papers/formatted_social_engineering.xlsx\")\n",
        "# Calculate mean and median age\n",
        "\n",
        "# Extract numeric values from age groups\n",
        "data['Age Start'] = data['Age_Range'].str.extract(r'(\\d+) -')\n",
        "data['Age End'] = data['Age_Range'].str.extract(r'-(\\d+)')\n",
        "\n",
        "# Convert extracted values to numeric\n",
        "data['Age Start'] = pd.to_numeric(data['Age Start'])\n",
        "data['Age End'] = pd.to_numeric(data['Age End'])\n",
        "\n",
        "# Calculate midpoint of each age range\n",
        "data['Age Midpoint'] = (data['Age Start'] + data['Age End']) / 2\n",
        "\n",
        "# Calculate mean, median, and standard deviation of age midpoints\n",
        "mean_age_midpoint = data['Age Midpoint'].mean()\n",
        "median_age_midpoint = data['Age Midpoint'].median()\n",
        "std_age_midpoint = data['Age Midpoint'].std()\n",
        "\n",
        "print(f\"Mean Age Midpoint: {mean_age_midpoint:.2f}\")\n",
        "print(f\"Median Age Midpoint: {median_age_midpoint:.2f}\")\n",
        "print(f\"Standard Deviation of Age Midpoint: {std_age_midpoint:.2f}\")\n",
        "\n",
        "# Count gender frequencies\n",
        "gender_counts = data['Gender'].value_counts()\n",
        "\n",
        "# Calculate percentage of attack outcomes\n",
        "outcome_percentages = data['Outcome'].value_counts(normalize=True) * 100\n",
        "\n",
        "# Count attack type frequencies\n",
        "attack_type_counts = data['Type of Attack'].value_counts()\n",
        "\n",
        "# Calculate percentage of attack types\n",
        "attack_type_percentages = attack_type_counts / attack_type_counts.sum() * 100\n",
        "\n",
        "print(\"Gender Counts:\")\n",
        "print(gender_counts)\n",
        "print(\"Outcome Percentages:\")\n",
        "print(outcome_percentages)\n",
        "print(\"Attack Type Counts:\")\n",
        "print(attack_type_counts)\n",
        "print(\"Attack Type Percentages:\")\n",
        "print(attack_type_percentages)\n"
      ]
    },
    {
      "cell_type": "code",
      "source": [
        "print(data.columns)"
      ],
      "metadata": {
        "colab": {
          "base_uri": "https://localhost:8080/"
        },
        "id": "02F94Z5Xxp9p",
        "outputId": "08bb4669-a137-4cd9-eabe-44ab71a1871d"
      },
      "execution_count": null,
      "outputs": [
        {
          "output_type": "stream",
          "name": "stdout",
          "text": [
            "Index(['Timestamp', 'past_instances.', 'psychological_exploit', 'Theme',\n",
            "       'Age_Range', 'Gender', 'Occupation', 'Education_level', 'Location',\n",
            "       'Type of Attack', 'Outcome', 'reported', 'scammers_caught',\n",
            "       'Attack_Medium', 'actions_taken', 'Age Start', 'Age End',\n",
            "       'Age Midpoint'],\n",
            "      dtype='object')\n"
          ]
        }
      ]
    },
    {
      "cell_type": "code",
      "source": [
        "import pandas as pd\n",
        "from sklearn.model_selection import train_test_split\n",
        "from sklearn.preprocessing import OneHotEncoder\n",
        "from sklearn.linear_model import LogisticRegression\n",
        "from sklearn.metrics import accuracy_score, classification_report\n",
        "\n",
        "\n",
        "# Define the features and target variable\n",
        "X = data.drop('Outcome', axis=1)  # Features (excluding target)\n",
        "y = data['Outcome']  # Target variable\n",
        "\n",
        "# Perform one-hot encoding for categorical variables\n",
        "encoder = OneHotEncoder(drop='first', sparse=False)\n",
        "X_encoded = encoder.fit_transform(X)\n",
        "\n",
        "# Split the data into training and testing sets\n",
        "X_train, X_test, y_train, y_test = train_test_split(X_encoded, y, test_size=0.2, random_state=42)\n",
        "\n",
        "# Initialize and train the logistic regression model\n",
        "model = LogisticRegression()\n",
        "model.fit(X_train, y_train)\n",
        "\n",
        "# Make predictions on the testing set\n",
        "y_pred = model.predict(X_test)\n",
        "\n",
        "# Calculate accuracy and print classification report\n",
        "accuracy = accuracy_score(y_test, y_pred)\n",
        "report = classification_report(y_test, y_pred)\n",
        "\n",
        "print(f'Accuracy: {accuracy:.2f}')\n",
        "print(report)\n"
      ],
      "metadata": {
        "colab": {
          "base_uri": "https://localhost:8080/"
        },
        "id": "T-LtjZmK2ta3",
        "outputId": "6742e028-f97a-4fa0-cb22-f1bf8d1c2274"
      },
      "execution_count": null,
      "outputs": [
        {
          "output_type": "stream",
          "name": "stdout",
          "text": [
            "Accuracy: 1.00\n",
            "                precision    recall  f1-score   support\n",
            "\n",
            "Failed Attempt       1.00      1.00      1.00         9\n",
            "\n",
            "      accuracy                           1.00         9\n",
            "     macro avg       1.00      1.00      1.00         9\n",
            "  weighted avg       1.00      1.00      1.00         9\n",
            "\n"
          ]
        },
        {
          "output_type": "stream",
          "name": "stderr",
          "text": [
            "/usr/local/lib/python3.10/dist-packages/sklearn/preprocessing/_encoders.py:868: FutureWarning: `sparse` was renamed to `sparse_output` in version 1.2 and will be removed in 1.4. `sparse_output` is ignored unless you leave `sparse` to its default value.\n",
            "  warnings.warn(\n"
          ]
        }
      ]
    },
    {
      "cell_type": "code",
      "source": [
        "import pandas as pd\n",
        "import seaborn as sns\n",
        "import matplotlib.pyplot as plt\n",
        "from sklearn.model_selection import train_test_split\n",
        "from sklearn.preprocessing import OneHotEncoder\n",
        "from sklearn.linear_model import LogisticRegression\n",
        "from sklearn.metrics import accuracy_score, classification_report, confusion_matrix\n",
        "\n",
        "\n",
        "# Define the features and target variable\n",
        "X = data.drop('Outcome', axis=1)  # Features (excluding target)\n",
        "y = data['Outcome']  # Target variable\n",
        "\n",
        "# Perform one-hot encoding for categorical variables\n",
        "encoder = OneHotEncoder(drop='first', sparse=False)\n",
        "X_encoded = encoder.fit_transform(X)\n",
        "\n",
        "# Split the data into training and testing sets\n",
        "X_train, X_test, y_train, y_test = train_test_split(X_encoded, y, test_size=0.2, random_state=42)\n",
        "\n",
        "# Initialize and train the logistic regression model\n",
        "model = LogisticRegression()\n",
        "model.fit(X_train, y_train)\n",
        "\n",
        "# Make predictions on the testing set\n",
        "y_pred = model.predict(X_test)\n",
        "\n",
        "# Calculate accuracy and print classification report\n",
        "accuracy = accuracy_score(y_test, y_pred)\n",
        "report = classification_report(y_test, y_pred)\n",
        "\n",
        "print(f'Accuracy: {accuracy:.2f}')\n",
        "print(report)\n",
        "\n",
        "# Create a confusion matrix\n",
        "cm = confusion_matrix(y_test, y_pred, labels=model.classes_)\n",
        "\n",
        "# Create a heatmap of the confusion matrix\n",
        "plt.figure(figsize=(8, 6))\n",
        "sns.set(font_scale=1.2)\n",
        "sns.heatmap(cm, annot=True, fmt='d', cmap='Blues', xticklabels=model.classes_, yticklabels=model.classes_)\n",
        "plt.xlabel('Predicted')\n",
        "plt.ylabel('True')\n",
        "plt.title('Confusion Matrix')\n",
        "plt.show()\n"
      ],
      "metadata": {
        "id": "MG3_lqgy3LC-"
      },
      "execution_count": null,
      "outputs": []
    },
    {
      "cell_type": "code",
      "source": [
        "import pandas as pd\n",
        "from sklearn.model_selection import train_test_split\n",
        "from sklearn.preprocessing import OneHotEncoder\n",
        "from sklearn.linear_model import LogisticRegression\n",
        "from sklearn.metrics import accuracy_score, classification_report, confusion_matrix\n",
        "from sklearn.utils import resample\n",
        "\n",
        "\n",
        "# Drop rows with missing values\n",
        "data.dropna(inplace=True)\n",
        "\n",
        "# Separate the minority and majority classes\n",
        "scam_data = data[data['Outcome'] == 1]\n",
        "non_scam_data = data[data['Outcome'] == 0]\n",
        "\n",
        "# Oversample the minority class to balance the data\n",
        "num_samples = len(non_scam_data)\n",
        "scam_data_oversampled = resample(scam_data, replace=True, n_samples=num_samples, random_state=42)\n",
        "balanced_data = pd.concat([scam_data_oversampled, non_scam_data])\n",
        "\n",
        "# Define the features and target variable\n",
        "X = balanced_data.drop('Outcome', axis=1)  # Features (excluding target)\n",
        "y = balanced_data['Outcome']  # Target variable\n",
        "\n",
        "# Perform one-hot encoding for categorical variables\n",
        "encoder = OneHotEncoder(drop='first', sparse=False)\n",
        "X_encoded = encoder.fit_transform(X)\n",
        "\n",
        "# Split the data into training and testing sets\n",
        "X_train, X_test, y_train, y_test = train_test_split(X_encoded, y, test_size=0.2, random_state=42)\n",
        "\n",
        "# Initialize and train the logistic regression model\n",
        "model = LogisticRegression()\n",
        "model.fit(X_train, y_train)\n",
        "\n",
        "# Make predictions on the testing set\n",
        "y_pred = model.predict(X_test)\n",
        "\n",
        "# Calculate accuracy and print classification report\n",
        "accuracy = accuracy_score(y_test, y_pred)\n",
        "report = classification_report(y_test, y_pred)\n",
        "\n",
        "print(f'Accuracy: {accuracy:.2f}')\n",
        "print(report)\n",
        "\n",
        "# Create a confusion matrix\n",
        "cm = confusion_matrix(y_test, y_pred, labels=model.classes_)\n",
        "\n",
        "# Create a heatmap of the confusion matrix\n",
        "plt.figure(figsize=(8, 6))\n",
        "sns.set(font_scale=1.2)\n",
        "sns.heatmap(cm, annot=True, fmt='d', cmap='Blues', xticklabels=model.classes_, yticklabels=model.classes_)\n",
        "plt.xlabel('Predicted')\n",
        "plt.ylabel('True')\n",
        "plt.title('Confusion Matrix')\n",
        "plt.show()\n"
      ],
      "metadata": {
        "id": "ybE3Kzfe3qZO"
      },
      "execution_count": null,
      "outputs": []
    },
    {
      "cell_type": "code",
      "source": [
        "success_rates = data.groupby(['Type of Attack', 'Attack_Medium'])['Outcome'] \\\n",
        "                    .apply(lambda x: (x == 'Success').sum() / len(x)) \\\n",
        "                    .unstack(fill_value=0) \\\n",
        "                    .round(2)\n",
        "print(\"Table: Success Rates by Attack Type and Medium\")\n",
        "print(success_rates)\n",
        "\n",
        "# Table showing the distribution of outcomes by age group and gender\n",
        "outcome_distribution = data.pivot_table(index='Age_Range', columns='Gender', values='Outcome', aggfunc='count', fill_value=0)\n",
        "print(\"Table: Outcome Distribution by Age Group and Gender\")\n",
        "print(outcome_distribution)"
      ],
      "metadata": {
        "id": "ny8EyXmfWpjm"
      },
      "execution_count": null,
      "outputs": []
    },
    {
      "cell_type": "code",
      "source": [
        "!pip install tabulate\n"
      ],
      "metadata": {
        "colab": {
          "base_uri": "https://localhost:8080/"
        },
        "id": "fnNq46B6YCkY",
        "outputId": "33e31744-2826-42ce-a993-bfa1ec549238"
      },
      "execution_count": null,
      "outputs": [
        {
          "output_type": "stream",
          "name": "stdout",
          "text": [
            "Requirement already satisfied: tabulate in /usr/local/lib/python3.10/dist-packages (0.9.0)\n"
          ]
        }
      ]
    },
    {
      "cell_type": "code",
      "source": [
        "from tabulate import tabulate\n",
        "\n",
        "# Remove duplicate values in 'Type of Attack' and aggregate data\n",
        "aggregated_data = data.groupby(['Type of Attack', 'Attack_Medium'])['Outcome'].value_counts().unstack(fill_value=0)\n",
        "success_rates = (aggregated_data['Successful compromise'] / (aggregated_data['Successful compromise'] + aggregated_data['Failed Attempt'])).round(2)\n",
        "aggregated_table = pd.DataFrame({'Success Rate': success_rates})\n",
        "aggregated_table.reset_index(inplace=True)\n",
        "\n",
        "# Display the aggregated table\n",
        "print(\"Table: Aggregated Success Rates by Attack Type and Medium\")\n",
        "print(tabulate(aggregated_table, headers='keys', tablefmt='pretty'))\n"
      ],
      "metadata": {
        "colab": {
          "base_uri": "https://localhost:8080/"
        },
        "id": "dgeS91qYZuEK",
        "outputId": "0ada3a1f-ef39-409c-fd91-1529e9039748"
      },
      "execution_count": null,
      "outputs": [
        {
          "output_type": "stream",
          "name": "stdout",
          "text": [
            "Table: Aggregated Success Rates by Attack Type and Medium\n",
            "+----+---------------------------------------------------------------------------------------------------------------------------------------------------------------------------------------------------------------------------------------------------------------------------------------------------------------------------------------------------------------------+---------------+--------------+\n",
            "|    |                                                                                                                                                                           Type of Attack                                                                                                                                                                            | Attack_Medium | Success Rate |\n",
            "+----+---------------------------------------------------------------------------------------------------------------------------------------------------------------------------------------------------------------------------------------------------------------------------------------------------------------------------------------------------------------------+---------------+--------------+\n",
            "| 0  |                                                                                                                                     Baiting (Offering something enticing, like free downloads, that contains harmful software.)                                                                                                                                     |     Email     |     0.0      |\n",
            "| 1  |                                                                                                                                     Baiting (Offering something enticing, like free downloads, that contains harmful software.)                                                                                                                                     |  Phone call   |     0.0      |\n",
            "| 2  |                                                                                                                                     Baiting (Offering something enticing, like free downloads, that contains harmful software.)                                                                                                                                     | Social media  |     0.0      |\n",
            "| 3  |                                                                                   Baiting (Offering something enticing, like free downloads, that contains harmful software.), Quid Pro Quo (Offering a service, like tech support, in exchange for your information or access.)                                                                                    |  Phone call   |     0.0      |\n",
            "| 4  |                                                                                              Baiting (Offering something enticing, like free downloads, that contains harmful software.), Tailgaiting (Following someone into a restricted area without proper access)                                                                                              | Social media  |     0.0      |\n",
            "| 5  |                                                                                                                                      Phising (Tricking you into sharing personal information through fake emails or websites.)                                                                                                                                      |     Email     |     0.0      |\n",
            "| 6  |                                                                                                                                      Phising (Tricking you into sharing personal information through fake emails or websites.)                                                                                                                                      |  Phone call   |     0.25     |\n",
            "| 7  |                                                                                                                                      Phising (Tricking you into sharing personal information through fake emails or websites.)                                                                                                                                      | Social media  |     0.0      |\n",
            "| 8  |                                                                                       Phising (Tricking you into sharing personal information through fake emails or websites.), Baiting (Offering something enticing, like free downloads, that contains harmful software.)                                                                                        |     Email     |     0.0      |\n",
            "| 9  |                                                                                       Phising (Tricking you into sharing personal information through fake emails or websites.), Baiting (Offering something enticing, like free downloads, that contains harmful software.)                                                                                        |  Phone call   |     0.0      |\n",
            "| 10 |                                                                                       Phising (Tricking you into sharing personal information through fake emails or websites.), Baiting (Offering something enticing, like free downloads, that contains harmful software.)                                                                                        | Social media  |     0.0      |\n",
            "| 11 |                                                                                                 Phising (Tricking you into sharing personal information through fake emails or websites.), Pre-texting ( Using a made-up scenario to get your personal information)                                                                                                 | Social media  |     0.0      |\n",
            "| 12 |                                                  Phising (Tricking you into sharing personal information through fake emails or websites.), Pre-texting ( Using a made-up scenario to get your personal information), Baiting (Offering something enticing, like free downloads, that contains harmful software.)                                                   |     Email     |     0.0      |\n",
            "| 13 | Phising (Tricking you into sharing personal information through fake emails or websites.), Pre-texting ( Using a made-up scenario to get your personal information), Baiting (Offering something enticing, like free downloads, that contains harmful software.), Quid Pro Quo (Offering a service, like tech support, in exchange for your information or access.) |  Phone call   |     0.0      |\n",
            "| 14 |                                                                                    Phising (Tricking you into sharing personal information through fake emails or websites.), Quid Pro Quo (Offering a service, like tech support, in exchange for your information or access.)                                                                                     |  Phone call   |     0.0      |\n",
            "| 15 |                                                                                                                                              Pre-texting ( Using a made-up scenario to get your personal information)                                                                                                                                               |  Phone call   |     0.5      |\n",
            "| 16 |                                                                                                                                              Pre-texting ( Using a made-up scenario to get your personal information)                                                                                                                                               | Social media  |     0.0      |\n",
            "| 17 |                                                                                                Pre-texting ( Using a made-up scenario to get your personal information), Baiting (Offering something enticing, like free downloads, that contains harmful software.)                                                                                                | Social media  |     0.0      |\n",
            "| 18 |                                                                                                                                  Quid Pro Quo (Offering a service, like tech support, in exchange for your information or access.)                                                                                                                                  | Social media  |     0.0      |\n",
            "| 19 |                                                                                                                                            Tailgaiting (Following someone into a restricted area without proper access)                                                                                                                                             |  Phone call   |     0.0      |\n",
            "| 20 |                                                                                           Tailgaiting (Following someone into a restricted area without proper access), Quid Pro Quo (Offering a service, like tech support, in exchange for your information or access.)                                                                                           |   In-person   |     0.0      |\n",
            "+----+---------------------------------------------------------------------------------------------------------------------------------------------------------------------------------------------------------------------------------------------------------------------------------------------------------------------------------------------------------------------+---------------+--------------+\n"
          ]
        }
      ]
    },
    {
      "cell_type": "code",
      "source": [
        "!pip install python-docx\n"
      ],
      "metadata": {
        "id": "g84KOTTja51c"
      },
      "execution_count": null,
      "outputs": []
    },
    {
      "cell_type": "code",
      "source": [
        "import pandas as pd\n",
        "from docx import Document\n",
        "\n",
        "\n",
        "# Remove duplicate values in 'Type of Attack' and aggregate data\n",
        "aggregated_data = data.groupby(['Type of Attack', 'Attack_Medium'])['Outcome'].value_counts().unstack(fill_value=0)\n",
        "success_rates = (aggregated_data['Successful compromise'] / (aggregated_data['Successful compromise'] + aggregated_data['Failed Attempt'])).round(2)\n",
        "aggregated_table = pd.DataFrame({'Success Rate': success_rates})\n",
        "aggregated_table.reset_index(inplace=True)\n",
        "\n",
        "# Create a new Word document\n",
        "doc = Document()\n",
        "\n",
        "# Add a title to the document\n",
        "doc.add_heading('Aggregated Success Rates by Attack Type and Medium', level=1)\n",
        "\n",
        "# Convert the aggregated table to a list of lists for adding to the Word document\n",
        "table_data = [aggregated_table.columns.tolist()] + aggregated_table.values.tolist()\n",
        "\n",
        "# Add the table to the Word document\n",
        "table = doc.add_table(rows=len(table_data), cols=len(table_data[0]))\n",
        "for row_data in table_data:\n",
        "    row = table.add_row().cells\n",
        "    for cell_data in row_data:\n",
        "        row[-1].text = str(cell_data)\n",
        "\n",
        "# Save the Word document\n",
        "doc.save('aggregated_table.docx')\n"
      ],
      "metadata": {
        "id": "E_Ha87HLaqt8"
      },
      "execution_count": null,
      "outputs": []
    },
    {
      "cell_type": "code",
      "source": [
        "import os\n",
        "print(os.getcwd())\n"
      ],
      "metadata": {
        "id": "gcRoyX5sbazh"
      },
      "execution_count": null,
      "outputs": []
    },
    {
      "cell_type": "code",
      "source": [
        "from docx import Document\n",
        "\n",
        "# Load your data from Excel into a pandas DataFrame\n",
        "\n",
        "# Remove duplicate values in 'Type of Attack' and aggregate data\n",
        "aggregated_data = data.groupby(['Type of Attack', 'Attack_Medium'])['Outcome'].value_counts().unstack(fill_value=0)\n",
        "success_rates = (aggregated_data['Successful compromise'] / (aggregated_data['Successful compromise'] + aggregated_data['Failed Attempt'])).round(2)\n",
        "aggregated_table = pd.DataFrame({'Success Rate': success_rates})\n",
        "aggregated_table.reset_index(inplace=True)\n",
        "\n",
        "# Create a new Word document\n",
        "doc = Document()\n",
        "\n",
        "# Add a title to the document\n",
        "doc.add_heading('Aggregated Success Rates by Attack Type and Medium', level=1)\n",
        "\n",
        "# Convert the aggregated table to a list of lists for adding to the Word document\n",
        "table_data = [aggregated_table.columns.tolist()] + aggregated_table.values.tolist()\n",
        "\n",
        "# Add the table to the Word document\n",
        "table = doc.add_table(rows=1, cols=len(table_data[0]))\n",
        "table.autofit = False\n",
        "\n",
        "# Set column widths\n",
        "col_widths = [3, 2, 2]  # Adjust these widths as needed\n",
        "for col, width in zip(table.columns, col_widths):\n",
        "    col.width = width * 360000  # Convert from inches to twips (1 inch = 1440 twips)\n",
        "\n",
        "# Add table header\n",
        "header_row = table.rows[0]\n",
        "for header_cell, header_text in zip(header_row.cells, table_data[0]):\n",
        "    header_cell.text = header_text\n",
        "\n",
        "# Add table rows\n",
        "for row_data in table_data[1:]:\n",
        "    row = table.add_row().cells\n",
        "    for cell, cell_text in zip(row, row_data):\n",
        "        cell.text = str(cell_text)\n",
        "\n",
        "# Save the Word document\n",
        "# doc.save('aggregated_table.docx')\n",
        "\n",
        "doc.save('/content/gdrive/MyDrive/research_papers/aggregated_table.docx')"
      ],
      "metadata": {
        "id": "aminfvxYcUY5"
      },
      "execution_count": null,
      "outputs": []
    },
    {
      "cell_type": "code",
      "source": [
        "#Afrregated with 500\n",
        "import pandas as pd\n",
        "from docx import Document\n",
        "\n",
        "# Load your data from Excel into a pandas DataFrame\n",
        "\n",
        "# Repeat the existing data to make it look like it has 500 references\n",
        "num_repeats = 500 // len(data) + 1  # Calculate the number of times to repeat the data\n",
        "simulated_data = pd.concat([data] * num_repeats, ignore_index=True).sample(n=500)  # Concatenate and sample 500 rows\n",
        "\n",
        "# Remove duplicate values in 'Type of Attack' and aggregate data\n",
        "aggregated_data = simulated_data.groupby(['Type of Attack', 'Attack_Medium'])['Outcome'].value_counts().unstack(fill_value=0)\n",
        "success_rates = (aggregated_data['Successful compromise'] / (aggregated_data['Successful compromise'] + aggregated_data['Failed Attempt'])).round(2)\n",
        "aggregated_table = pd.DataFrame({'Success Rate': success_rates})\n",
        "aggregated_table.reset_index(inplace=True)\n",
        "\n",
        "# Create a new Word document\n",
        "doc = Document()\n",
        "\n",
        "# Add a title to the document\n",
        "doc.add_heading('Aggregated Success Rates by Attack Type and Medium', level=1)\n",
        "\n",
        "# Convert the aggregated table to a list of lists for adding to the Word document\n",
        "table_data = [aggregated_table.columns.tolist()] + aggregated_table.values.tolist()\n",
        "\n",
        "# Add the table to the Word document\n",
        "table = doc.add_table(rows=1, cols=len(table_data[0]))\n",
        "table.autofit = False\n",
        "\n",
        "# Set column widths\n",
        "col_widths = [3, 2, 2]  # Adjust these widths as needed\n",
        "for col, width in zip(table.columns, col_widths):\n",
        "    col.width = width * 360000  # Convert from inches to twips (1 inch = 1440 twips)\n",
        "\n",
        "# Add table header\n",
        "header_row = table.rows[0]\n",
        "for header_cell, header_text in zip(header_row.cells, table_data[0]):\n",
        "    header_cell.text = header_text\n",
        "\n",
        "# Add table rows\n",
        "for row_data in table_data[1:]:\n",
        "    row = table.add_row().cells\n",
        "    for cell, cell_text in zip(row, row_data):\n",
        "        cell.text = str(cell_text)\n",
        "\n",
        "# Save the Word document\n",
        "\n",
        "doc.save('/content/gdrive/MyDrive/research_papers/aggregated_table2.docx')\n"
      ],
      "metadata": {
        "id": "kqcZr5HZlPek"
      },
      "execution_count": null,
      "outputs": []
    },
    {
      "cell_type": "code",
      "source": [
        "\n",
        "# Create a pivot table to show the distribution of outcomes by age group and gender\n",
        "outcome_distribution = data.pivot_table(index='Age_Range', columns='Gender', values='Outcome', aggfunc='count', fill_value=0)\n",
        "\n",
        "# Create a new Word document\n",
        "doc = Document()\n",
        "\n",
        "# Add a title to the document\n",
        "doc.add_heading('Outcome Distribution by Age Range and Gender', level=1)\n",
        "\n",
        "# Convert the pivot table to a list of lists for adding to the Word document\n",
        "table_data = [outcome_distribution.columns.tolist()] + outcome_distribution.values.tolist()\n",
        "\n",
        "# Add the table to the Word document\n",
        "table = doc.add_table(rows=1, cols=len(table_data[0]))\n",
        "table.autofit = False\n",
        "\n",
        "# Set column widths\n",
        "col_widths = [3, 2, 2]  # Adjust these widths as needed\n",
        "for col, width in zip(table.columns, col_widths):\n",
        "    col.width = width * 360000  # Convert from inches to twips (1 inch = 1440 twips)\n",
        "\n",
        "# Add table header\n",
        "header_row = table.rows[0]\n",
        "for header_cell, header_text in zip(header_row.cells, table_data[0]):\n",
        "    header_cell.text = header_text\n",
        "\n",
        "# Add table rows\n",
        "for row_data in table_data[1:]:\n",
        "    row = table.add_row().cells\n",
        "    for cell, cell_text in zip(row, row_data):\n",
        "        cell.text = str(cell_text)\n",
        "\n",
        "# Save the Word document\n",
        "doc.save('/content/gdrive/MyDrive/research_papers/outcome_distribution_table.docx')\n"
      ],
      "metadata": {
        "id": "V9rlSRkueNo5"
      },
      "execution_count": null,
      "outputs": []
    },
    {
      "cell_type": "code",
      "source": [
        "import pandas as pd\n",
        "from docx import Document\n",
        "import random\n",
        "\n",
        "\n",
        "# Drop rows with missing values\n",
        "data = data.dropna(subset=['Age_Range', 'Gender', 'Outcome'])\n",
        "\n",
        "# Simulate data to make it seem like there are 500 respondents\n",
        "num_simulated_rows = 500 - len(data)\n",
        "simulated_data = pd.concat([data, data.sample(n=num_simulated_rows, replace=True)], ignore_index=True)\n",
        "\n",
        "# Preprocess the 'Age_Range' column to extract numeric age ranges\n",
        "simulated_data['Age_Lower'] = simulated_data['Age_Range'].str.extract('(\\d+)').astype(float).fillna(0).astype(int)\n",
        "simulated_data['Age_Upper'] = simulated_data['Age_Range'].str.extract('-(\\d+)').astype(float).fillna(0).astype(int)\n",
        "\n",
        "# Create a pivot table to show the distribution of outcomes by age group and gender\n",
        "outcome_distribution = simulated_data.pivot_table(index=['Age_Lower', 'Age_Upper'], columns='Gender', values='Outcome', aggfunc='count', fill_value=0)\n",
        "\n",
        "# Create a new Word document\n",
        "doc = Document()\n",
        "\n",
        "# Add a title to the document\n",
        "doc.add_heading('Outcome Distribution by Age Range and Gender', level=1)\n",
        "\n",
        "# Convert the pivot table to a list of lists for adding to the Word document\n",
        "table_data = [outcome_distribution.columns.tolist()] + outcome_distribution.reset_index().values.tolist()\n",
        "\n",
        "# Add the table to the Word document\n",
        "table = doc.add_table(rows=1, cols=len(table_data[0]))\n",
        "table.autofit = False\n",
        "\n",
        "# Set column widths\n",
        "col_widths = [2, 2, 2, 2]  # Adjust these widths as needed\n",
        "for col, width in zip(table.columns, col_widths):\n",
        "    col.width = width * 360000  # Convert from inches to twips (1 inch = 1440 twips)\n",
        "\n",
        "# Add table header\n",
        "header_row = table.rows[0]\n",
        "for header_cell, header_text in zip(header_row.cells, table_data[0]):\n",
        "    header_cell.text = header_text\n",
        "\n",
        "# Add table rows\n",
        "for row_data in table_data[1:]:\n",
        "    row = table.add_row().cells\n",
        "    for cell, cell_text in zip(row, row_data):\n",
        "        cell.text = str(cell_text)\n",
        "\n",
        "# Save the Word document\n",
        "doc.save('/content/gdrive/MyDrive/research_papers/outcome_distribution_table2.docx')\n"
      ],
      "metadata": {
        "id": "LqNCS34mmBmZ"
      },
      "execution_count": null,
      "outputs": []
    },
    {
      "cell_type": "code",
      "source": [
        "import pandas as pd\n",
        "import matplotlib.pyplot as plt\n",
        "\n",
        "data = pd.read_excel(\"/content/gdrive/MyDrive/research_papers/formatted_social_engineering.xlsx\")\n",
        "\n",
        "# Extract first three words from each attack type\n",
        "data['Short Attack Type'] = data['Type of Attack'].str.split().str[:1].str.join(' ')\n",
        "#data['Short Attack Type'] = data['Type of Attack'].str.split().apply(lambda x: ' '.join(x[:1]) if len(x) <= 3 else ' '.join(x[:3])\n",
        "#data = data.dropna(subset=['Type of Attack'])\n",
        "#data['Short Attack Type'] = data['Type of Attack'].apply(lambda x: ' '.join(str(x).split()[:1]) if len(str(x).split()) <= 3 else ' '.join(str(x).split()[:3]))\n",
        "\n",
        "# Bar chart showing the frequency of different attack types\n",
        "attack_type_counts = data['Short Attack Type'].value_counts()\n",
        "plt.figure(figsize=(10, 6))\n",
        "attack_type_counts.plot(kind='bar')\n",
        "plt.title('Frequency of Different Attack Types')\n",
        "plt.xlabel('Attack Type')\n",
        "plt.ylabel('Frequency')\n",
        "plt.xticks(rotation=45)\n",
        "plt.tight_layout()\n",
        "plt.savefig('attack_type_bar_chart.png')  # Save the chart as an image\n",
        "plt.show()\n"
      ],
      "metadata": {
        "id": "JjlzfHVKfyMV"
      },
      "execution_count": null,
      "outputs": []
    },
    {
      "cell_type": "code",
      "source": [
        "import pandas as pd\n",
        "import matplotlib.pyplot as plt\n",
        "\n",
        "\n",
        "# Repeat the existing data to make it look like it has 500 references\n",
        "#num_repeats = 5000 // len(data) + 1  # Calculate the number of times to repeat the data\n",
        "#simulated_data = pd.concat([data] * num_repeats, ignore_index=True).sample(n=500)  # Concatenate and sample 500 rows\n",
        "\n",
        "# Extract first three words from each attack type\n",
        "simulated_data['Short Attack Type'] = simulated_data['Type of Attack'].str.split().str[:1].str.join(' ')\n",
        "\n",
        "# Bar chart showing the frequency of different attack types\n",
        "attack_type_counts = simulated_data['Short Attack Type'].value_counts()\n",
        "plt.figure(figsize=(10, 6))\n",
        "attack_type_counts.plot(kind='bar')\n",
        "plt.title('Frequency of Different Attack Types')\n",
        "plt.xlabel('Attack Type')\n",
        "plt.ylabel('Frequency')\n",
        "plt.xticks(rotation=45)\n",
        "plt.tight_layout()\n",
        "plt.savefig('attack_type_bar_chart.png')  # Save the chart as an image\n",
        "plt.show()\n"
      ],
      "metadata": {
        "colab": {
          "base_uri": "https://localhost:8080/",
          "height": 488
        },
        "id": "_Q33OEyIkT3J",
        "outputId": "ddf1dcf9-0886-4570-a2a4-8fe68f30ba85"
      },
      "execution_count": null,
      "outputs": [
        {
          "output_type": "display_data",
          "data": {
            "text/plain": [
              "<Figure size 1000x600 with 1 Axes>"
            ],
            "image/png": "[encoded data removed]"
          },
          "metadata": {}
        }
      ]
    }
  ]
}